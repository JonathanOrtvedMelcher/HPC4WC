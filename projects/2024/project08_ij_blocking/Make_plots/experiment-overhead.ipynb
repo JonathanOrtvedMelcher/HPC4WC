{
 "cells": [
  {
   "cell_type": "markdown",
   "id": "74665982-3395-4bda-8146-b9c4457c90ed",
   "metadata": {},
   "source": [
    "# Experiment 1: Quantifying overhead in different levels of optimization"
   ]
  },
  {
   "cell_type": "code",
   "execution_count": 1,
   "id": "aec75b21-0a5c-4d19-8a6e-ce5454ed5add",
   "metadata": {},
   "outputs": [],
   "source": [
    "import numpy as np\n",
    "import matplotlib\n",
    "import matplotlib.pyplot as plt\n",
    "import timeit"
   ]
  },
  {
   "cell_type": "code",
   "execution_count": 2,
   "id": "1ff811a3-982a-4a10-a2c0-d95a4b6c553c",
   "metadata": {},
   "outputs": [
    {
     "name": "stdout",
     "output_type": "stream",
     "text": [
      "make: Entering directory '/users/class169/Project/HPC4WC_project_ijblocking/Stencil_code'\n",
      "rm -f -rf *~ *.o *.mod *.MOD *.i core.* *.out *.lst *.x *.x+orig *.x+[0-9]* *.dat *.report result_*.py\n",
      "make: Leaving directory '/users/class169/Project/HPC4WC_project_ijblocking/Stencil_code'\n"
     ]
    }
   ],
   "source": [
    "%%bash\n",
    "make --directory=../Stencil_code/ clean"
   ]
  },
  {
   "cell_type": "code",
   "execution_count": 3,
   "id": "ac3da19a-4fc3-4e39-bc26-ba60683174c7",
   "metadata": {},
   "outputs": [],
   "source": [
    "def read_field_from_file(filename, num_halo=None):\n",
    "    (rank, nbits, num_halo, nx, ny, nz) = np.fromfile(filename, dtype=np.int32, count=6)\n",
    "    offset=(3 + rank) * 32 // nbits\n",
    "    data = np.fromfile(filename, dtype=np.float32 if nbits == 32 else np.float64, \\\n",
    "                       count=nz * ny * nx + offset)\n",
    "    if rank == 3:\n",
    "        return np.reshape(data[offset:], (nz, ny, nx))\n",
    "    else:\n",
    "        return np.reshape(data[offset:], (ny, nx))\n",
    "\n",
    "def validate_results():\n",
    "    fig, axs = plt.subplots(1, 2, figsize=(12, 4))\n",
    "\n",
    "    in_field = read_field_from_file('in_field.dat')\n",
    "    k_lev = in_field.shape[0] // 2\n",
    "    im1 = axs[0].imshow(in_field[k_lev, :, :], origin='lower', vmin=-0.1, vmax=1.1);\n",
    "    fig.colorbar(im1, ax=axs[0]);\n",
    "    axs[0].set_title('Initial condition (k = {})'.format(k_lev));\n",
    "\n",
    "    out_field = read_field_from_file('out_field.dat')\n",
    "    k_lev = out_field.shape[0] // 2\n",
    "    im2 = axs[1].imshow(out_field[k_lev, :, :], origin='lower', vmin=-0.1, vmax=1.1);\n",
    "    fig.colorbar(im2, ax=axs[1]);\n",
    "    axs[1].set_title('Final result (k = {})'.format(k_lev));\n",
    "    \n",
    "    plt.show()"
   ]
  },
  {
   "cell_type": "code",
   "execution_count": 4,
   "id": "566b7ff8-04e0-454a-8cdf-5938bb394b46",
   "metadata": {},
   "outputs": [
    {
     "name": "stdout",
     "output_type": "stream",
     "text": [
      "make: Entering directory '/users/class169/Project/HPC4WC_project_ijblocking/Stencil_code'\n",
      "ftn -O3 -hfp3 -eZ -ffree -N255 -ec -eC -eI -eF -rm -c m_utils.F90\n",
      "ftn -O3 -hfp3 -eZ -ffree -N255 -ec -eC -eI -eF -rm -c stencil2d-simplecopy-block.F90\n",
      "ftn -O3 -hfp3 -eZ -ffree -N255 -ec -eC -eI -eF -rm m_utils.o stencil2d-simplecopy-block.o -o stencil2d-simplecopy-block.x\n",
      "cp stencil2d-simplecopy-block.x stencil2d.x\n",
      "make: Leaving directory '/users/class169/Project/HPC4WC_project_ijblocking/Stencil_code'\n",
      "make: Entering directory '/users/class169/Project/HPC4WC_project_ijblocking/Stencil_code'\n",
      "ftn -O3 -hfp3 -eZ -ffree -N255 -ec -eC -eI -eF -rm -c stencil2d-simplecopy-ij.F90\n",
      "ftn -O3 -hfp3 -eZ -ffree -N255 -ec -eC -eI -eF -rm m_utils.o stencil2d-simplecopy-ij.o -o stencil2d-simplecopy-ij.x\n",
      "cp stencil2d-simplecopy-ij.x stencil2d.x\n",
      "make: Leaving directory '/users/class169/Project/HPC4WC_project_ijblocking/Stencil_code'\n",
      "make: Entering directory '/users/class169/Project/HPC4WC_project_ijblocking/Stencil_code'\n",
      "ftn -O3 -hfp3 -eZ -ffree -N255 -ec -eC -eI -eF -rm -c stencil2d-simplecopy-k.F90\n",
      "ftn -O3 -hfp3 -eZ -ffree -N255 -ec -eC -eI -eF -rm m_utils.o stencil2d-simplecopy-k.o -o stencil2d-simplecopy-k.x\n",
      "cp stencil2d-simplecopy-k.x stencil2d.x\n",
      "make: Leaving directory '/users/class169/Project/HPC4WC_project_ijblocking/Stencil_code'\n"
     ]
    }
   ],
   "source": [
    "%%bash\n",
    "module load daint-gpu\n",
    "module switch PrgEnv-gnu PrgEnv-cray\n",
    "\n",
    "make --directory=../Stencil_code/ VERSION=simplecopy-block\n",
    "make --directory=../Stencil_code/ VERSION=simplecopy-ij\n",
    "make --directory=../Stencil_code/ VERSION=simplecopy-k"
   ]
  },
  {
   "cell_type": "markdown",
   "id": "149d095f-03d7-40b5-bd36-57122a54828d",
   "metadata": {},
   "source": [
    "Getting the baseline: speed for  no blocking."
   ]
  },
  {
   "cell_type": "code",
   "execution_count": 5,
   "id": "da10520e-ada3-4786-81c7-6835fd526710",
   "metadata": {},
   "outputs": [],
   "source": [
    "output_ij_block = !srun -n 1 ../Stencil_code/stencil2d-simplecopy-block.x --nx 128 --ny 128 --nz 64 --num_iter 1\n",
    "exec(output_ij_block.nlstr)\n",
    "time_ij_block = data[0,-1]"
   ]
  },
  {
   "cell_type": "code",
   "execution_count": 6,
   "id": "f98dd51d-4f1b-4437-ab8f-6d78dccafdd4",
   "metadata": {},
   "outputs": [],
   "source": [
    "output_ij = !srun -n 1 ../Stencil_code/stencil2d-simplecopy-ij.x --nx 128 --ny 128 --nz 64 --num_iter 1\n",
    "exec(output_ij.nlstr)\n",
    "time_ij = data[0,-1]"
   ]
  },
  {
   "cell_type": "code",
   "execution_count": 7,
   "id": "012e3864-b1c4-4f26-b6cf-4a30e1c33e6b",
   "metadata": {},
   "outputs": [],
   "source": [
    "output_k = !srun -n 1 ../Stencil_code/stencil2d-simplecopy-k.x --nx 128 --ny 128 --nz 64 --num_iter 1\n",
    "exec(output_k.nlstr)\n",
    "time_k = data[0,-1]"
   ]
  },
  {
   "cell_type": "markdown",
   "id": "4c34fbb5-baa4-4ac5-ad7b-5cd3fb374a9f",
   "metadata": {},
   "source": [
    "Compare the times, calculate relative improvement of the thing."
   ]
  },
  {
   "cell_type": "code",
   "execution_count": 8,
   "id": "8806c2b3-fbee-469f-a7bd-dfc346db945b",
   "metadata": {},
   "outputs": [],
   "source": [
    "improvement_ij_block = (time_k - time_ij_block) / time_k * 100\n",
    "improvement_ij = (time_k - time_ij) / time_k * 100"
   ]
  },
  {
   "cell_type": "code",
   "execution_count": 9,
   "id": "9a0fbd60-9b5a-48be-b105-607c38a92d74",
   "metadata": {},
   "outputs": [
    {
     "name": "stdout",
     "output_type": "stream",
     "text": [
      "Improvement with ij-blocking: -18.4847364592685%, improvement with ij-blocking and smaller blocks in tmp-field: -4.522028998431412%.\n"
     ]
    }
   ],
   "source": [
    "print(f'Improvement with ij-blocking: {improvement_ij}%, improvement with ij-blocking and smaller blocks in tmp-field: {improvement_ij_block}%.')"
   ]
  },
  {
   "cell_type": "code",
   "execution_count": 10,
   "id": "8195e48d-6ce5-41d2-946e-ab35f7e24774",
   "metadata": {},
   "outputs": [
    {
     "name": "stdout",
     "output_type": "stream",
     "text": [
      "0.000628233\n"
     ]
    }
   ],
   "source": [
    "print(time_ij_block)"
   ]
  },
  {
   "cell_type": "code",
   "execution_count": 11,
   "id": "07485ac9-07e4-4614-8353-4cd3494ad782",
   "metadata": {},
   "outputs": [
    {
     "name": "stdout",
     "output_type": "stream",
     "text": [
      "0.0006010532\n"
     ]
    }
   ],
   "source": [
    "print(time_k)"
   ]
  },
  {
   "cell_type": "code",
   "execution_count": 12,
   "id": "a6101105-5137-4a27-ba32-a365d0533cb9",
   "metadata": {},
   "outputs": [
    {
     "name": "stdout",
     "output_type": "stream",
     "text": [
      "0.0007121563\n"
     ]
    }
   ],
   "source": [
    "print(time_ij)"
   ]
  },
  {
   "cell_type": "code",
   "execution_count": 13,
   "id": "d109b1fe-d0a5-4be2-823b-1ceac8a9f574",
   "metadata": {},
   "outputs": [],
   "source": [
    "N = 10\n",
    "improvement_ij_averaged = 0\n",
    "improvement_ij_block_averaged = 0\n",
    "\n",
    "\n",
    "for i in range(N):\n",
    "    output_ij_block = !srun -n 1 ../Stencil_code/stencil2d-simplecopy-block.x --nx 128 --ny 128 --nz 64 --num_iter 1\n",
    "    exec(output_ij_block.nlstr)\n",
    "    time_ij_block = data[0,-1]\n",
    "    \n",
    "    output_ij = !srun -n 1 ../Stencil_code/stencil2d-simplecopy-ij.x --nx 128 --ny 128 --nz 64 --num_iter 1\n",
    "    exec(output_ij.nlstr)\n",
    "    time_ij = data[0,-1]\n",
    "    \n",
    "    output_k = !srun -n 1 ../Stencil_code/stencil2d-simplecopy-k.x --nx 128 --ny 128 --nz 64 --num_iter 1\n",
    "    exec(output_k.nlstr)\n",
    "    time_k = data[0,-1]\n",
    "    \n",
    "    improvement_ij_block_averaged += (time_k - time_ij_block) / time_k * 100\n",
    "    improvement_ij_averaged += (time_k - time_ij) / time_k * 100\n",
    "    \n",
    "improvement_ij_averaged /= N\n",
    "improvement_ij_block_averaged /= N"
   ]
  },
  {
   "cell_type": "code",
   "execution_count": 14,
   "id": "cf1e43be-48e5-4741-b25c-26154fda6d56",
   "metadata": {},
   "outputs": [
    {
     "data": {
      "text/plain": [
       "-20.272872308842203"
      ]
     },
     "execution_count": 14,
     "metadata": {},
     "output_type": "execute_result"
    }
   ],
   "source": [
    "improvement_ij_averaged"
   ]
  },
  {
   "cell_type": "code",
   "execution_count": 15,
   "id": "3b4f9498-1dbc-4236-812f-4287b6b4cf7f",
   "metadata": {},
   "outputs": [
    {
     "data": {
      "text/plain": [
       "-4.888905821973357"
      ]
     },
     "execution_count": 15,
     "metadata": {},
     "output_type": "execute_result"
    }
   ],
   "source": [
    "improvement_ij_block_averaged"
   ]
  },
  {
   "cell_type": "code",
   "execution_count": null,
   "id": "d6195fc1-0f16-469d-9e2a-d02486f6dc85",
   "metadata": {},
   "outputs": [],
   "source": []
  }
 ],
 "metadata": {
  "kernelspec": {
   "display_name": "HPC4WC_kernel",
   "language": "python",
   "name": "hpc4wc_kernel"
  },
  "language_info": {
   "codemirror_mode": {
    "name": "ipython",
    "version": 3
   },
   "file_extension": ".py",
   "mimetype": "text/x-python",
   "name": "python",
   "nbconvert_exporter": "python",
   "pygments_lexer": "ipython3",
   "version": "3.9.4"
  }
 },
 "nbformat": 4,
 "nbformat_minor": 5
}
