{
 "cells": [
  {
   "cell_type": "markdown",
   "id": "5a686cfd-99c1-4ffe-a803-a967f781dc15",
   "metadata": {},
   "source": [
    "# Project: ij-blocking"
   ]
  },
  {
   "cell_type": "code",
   "execution_count": 7,
   "id": "e3d31a46-875f-411e-b001-84903671615b",
   "metadata": {},
   "outputs": [],
   "source": [
    "import numpy as np\n",
    "import matplotlib\n",
    "import matplotlib.pyplot as plt\n",
    "import sys\n",
    "import re\n",
    "import pickle"
   ]
  },
  {
   "cell_type": "code",
   "execution_count": 8,
   "id": "68b793c6-0f47-49ab-99a9-81db67f96da0",
   "metadata": {},
   "outputs": [],
   "source": [
    "def read_field_from_file(filename, num_halo=None):\n",
    "    (rank, nbits, num_halo, nx, ny, nz) = np.fromfile(filename, dtype=np.int32, count=6)\n",
    "    offset=(3 + rank) * 32 // nbits\n",
    "    data = np.fromfile(filename, dtype=np.float32 if nbits == 32 else np.float64, \\\n",
    "                       count=nz * ny * nx + offset)\n",
    "    if rank == 3:\n",
    "        return np.reshape(data[offset:], (nz, ny, nx))\n",
    "    else:\n",
    "        return np.reshape(data[offset:], (ny, nx))\n",
    "\n",
    "def validate_results(out_field, k_lev = 32, if_plot = True):\n",
    "    \n",
    "    num_tests = len(out_field)\n",
    "    \n",
    "    if if_plot:\n",
    "        if num_tests > 4:\n",
    "            fig, axs = plt.subplots(2, num_tests//2, figsize=(12, 8))\n",
    "            axs = axs.flatten()\n",
    "\n",
    "        else:\n",
    "            fig, axs = plt.subplots(1, num_tests, figsize=(12, 4))\n",
    "\n",
    "    test_diff = np.zeros(num_tests-1)\n",
    "    \n",
    "    for i, (key,data) in enumerate(out_field.items()):\n",
    "        if i == 0:\n",
    "            k_data = data\n",
    "        if if_plot:\n",
    "            im1 = axs[i].imshow(data[k_lev, :, :], origin='lower', vmin=-0.1, vmax=1.1);\n",
    "            fig.colorbar(im1, ax=axs[i]);\n",
    "            axs[i].set_title(key)\n",
    "        if i > 0:\n",
    "            test_diff[i-1] = np.sum(np.abs(k_data-data))\n",
    "    plt.show()\n",
    "    \n",
    "    if sum(test_diff) != 0:\n",
    "        print('MAE', np.array(test_diff)/ np.prod(k_data.shape))\n",
    "        print(list(out_field.keys())[1:])\n",
    "        return False\n",
    "    return True\n",
    "    \n",
    "\n",
    "    \n"
   ]
  },
  {
   "cell_type": "code",
   "execution_count": 9,
   "id": "a142889a-f5c1-4167-96c8-ede531774428",
   "metadata": {},
   "outputs": [
    {
     "name": "stdout",
     "output_type": "stream",
     "text": [
      "===== cleaning up =====\n",
      "make: Entering directory '/users/class169/Project/HPC4WC_project_ijblocking/Stencil_code'\n",
      "rm -f -rf *~ *.o *.mod *.MOD *.i core.* *.out *.lst *.x *.x+orig *.x+[0-9]* *.dat *.report result_*.py\n",
      "make: Leaving directory '/users/class169/Project/HPC4WC_project_ijblocking/Stencil_code'\n",
      "===== compiling =====\n",
      "make: Entering directory '/users/class169/Project/HPC4WC_project_ijblocking/Stencil_code'\n",
      "ftn -O3 -hfp3 -eZ -ffree -N255 -ec -eC -eI -eF -rm -c m_utils.F90\n",
      "ftn -O3 -hfp3 -eZ -ffree -N255 -ec -eC -eI -eF -rm -c stencil2d-kblocking.F90\n",
      "ftn -O3 -hfp3 -eZ -ffree -N255 -ec -eC -eI -eF -rm m_utils.o stencil2d-kblocking.o -o stencil2d-kblocking.x\n"
     ]
    },
    {
     "name": "stderr",
     "output_type": "stream",
     "text": [
      "INFO: creating the PerfTools-instrumented executable 'stencil2d-kblocking.x' (lite-samples) ...OK\n"
     ]
    },
    {
     "name": "stdout",
     "output_type": "stream",
     "text": [
      "cp stencil2d-kblocking.x stencil2d.x\n",
      "make: Leaving directory '/users/class169/Project/HPC4WC_project_ijblocking/Stencil_code'\n",
      "make: Entering directory '/users/class169/Project/HPC4WC_project_ijblocking/Stencil_code'\n",
      "ftn -O3 -hfp3 -eZ -ffree -N255 -ec -eC -eI -eF -rm -c stencil2d-ijblocking-math.F90\n",
      "ftn -O3 -hfp3 -eZ -ffree -N255 -ec -eC -eI -eF -rm m_utils.o stencil2d-ijblocking-math.o -o stencil2d-ijblocking-math.x\n"
     ]
    },
    {
     "name": "stderr",
     "output_type": "stream",
     "text": [
      "INFO: creating the PerfTools-instrumented executable 'stencil2d-ijblocking-math.x' (lite-samples) ...OK\n"
     ]
    },
    {
     "name": "stdout",
     "output_type": "stream",
     "text": [
      "cp stencil2d-ijblocking-math.x stencil2d.x\n",
      "make: Leaving directory '/users/class169/Project/HPC4WC_project_ijblocking/Stencil_code'\n",
      "make: Entering directory '/users/class169/Project/HPC4WC_project_ijblocking/Stencil_code'\n",
      "ftn -O3 -hfp3 -eZ -ffree -N255 -ec -eC -eI -eF -rm -c stencil2d-ijblocking2.F90\n",
      "ftn -O3 -hfp3 -eZ -ffree -N255 -ec -eC -eI -eF -rm m_utils.o stencil2d-ijblocking2.o -o stencil2d-ijblocking2.x\n"
     ]
    },
    {
     "name": "stderr",
     "output_type": "stream",
     "text": [
      "INFO: creating the PerfTools-instrumented executable 'stencil2d-ijblocking2.x' (lite-samples) ...OK\n"
     ]
    },
    {
     "name": "stdout",
     "output_type": "stream",
     "text": [
      "cp stencil2d-ijblocking2.x stencil2d.x\n",
      "make: Leaving directory '/users/class169/Project/HPC4WC_project_ijblocking/Stencil_code'\n",
      "make: Entering directory '/users/class169/Project/HPC4WC_project_ijblocking/Stencil_code'\n",
      "ftn -O3 -hfp3 -eZ -ffree -N255 -ec -eC -eI -eF -rm -c stencil2d-averaging-nn.F90\n",
      "ftn -O3 -hfp3 -eZ -ffree -N255 -ec -eC -eI -eF -rm m_utils.o stencil2d-averaging-nn.o -o stencil2d-averaging-nn.x\n"
     ]
    },
    {
     "name": "stderr",
     "output_type": "stream",
     "text": [
      "INFO: creating the PerfTools-instrumented executable 'stencil2d-averaging-nn.x' (lite-samples) ...OK\n"
     ]
    },
    {
     "name": "stdout",
     "output_type": "stream",
     "text": [
      "cp stencil2d-averaging-nn.x stencil2d.x\n",
      "make: Leaving directory '/users/class169/Project/HPC4WC_project_ijblocking/Stencil_code'\n",
      "make: Entering directory '/users/class169/Project/HPC4WC_project_ijblocking/Stencil_code'\n",
      "ftn -O3 -hfp3 -eZ -ffree -N255 -ec -eC -eI -eF -rm -c stencil2d-averaging-nnn.F90\n",
      "ftn -O3 -hfp3 -eZ -ffree -N255 -ec -eC -eI -eF -rm m_utils.o stencil2d-averaging-nnn.o -o stencil2d-averaging-nnn.x\n"
     ]
    },
    {
     "name": "stderr",
     "output_type": "stream",
     "text": [
      "INFO: creating the PerfTools-instrumented executable 'stencil2d-averaging-nnn.x' (lite-samples) ...OK\n"
     ]
    },
    {
     "name": "stdout",
     "output_type": "stream",
     "text": [
      "cp stencil2d-averaging-nnn.x stencil2d.x\n",
      "make: Leaving directory '/users/class169/Project/HPC4WC_project_ijblocking/Stencil_code'\n",
      "make: Entering directory '/users/class169/Project/HPC4WC_project_ijblocking/Stencil_code'\n",
      "ftn -O3 -hfp3 -eZ -ffree -N255 -ec -eC -eI -eF -rm -c stencil2d-lap-nn-ij.F90\n",
      "ftn -O3 -hfp3 -eZ -ffree -N255 -ec -eC -eI -eF -rm m_utils.o stencil2d-lap-nn-ij.o -o stencil2d-lap-nn-ij.x\n"
     ]
    },
    {
     "name": "stderr",
     "output_type": "stream",
     "text": [
      "INFO: creating the PerfTools-instrumented executable 'stencil2d-lap-nn-ij.x' (lite-samples) ...OK\n"
     ]
    },
    {
     "name": "stdout",
     "output_type": "stream",
     "text": [
      "cp stencil2d-lap-nn-ij.x stencil2d.x\n",
      "make: Leaving directory '/users/class169/Project/HPC4WC_project_ijblocking/Stencil_code'\n",
      "make: Entering directory '/users/class169/Project/HPC4WC_project_ijblocking/Stencil_code'\n",
      "ftn -O3 -hfp3 -eZ -ffree -N255 -ec -eC -eI -eF -rm -c stencil2d-lap-nnn-ij.F90\n",
      "ftn -O3 -hfp3 -eZ -ffree -N255 -ec -eC -eI -eF -rm m_utils.o stencil2d-lap-nnn-ij.o -o stencil2d-lap-nnn-ij.x\n"
     ]
    },
    {
     "name": "stderr",
     "output_type": "stream",
     "text": [
      "INFO: creating the PerfTools-instrumented executable 'stencil2d-lap-nnn-ij.x' (lite-samples) ...OK\n"
     ]
    },
    {
     "name": "stdout",
     "output_type": "stream",
     "text": [
      "cp stencil2d-lap-nnn-ij.x stencil2d.x\n",
      "make: Leaving directory '/users/class169/Project/HPC4WC_project_ijblocking/Stencil_code'\n",
      "make: Entering directory '/users/class169/Project/HPC4WC_project_ijblocking/Stencil_code'\n",
      "ftn -O3 -hfp3 -eZ -ffree -N255 -ec -eC -eI -eF -rm -c stencil2d-ijblocking-inline.F90\n",
      "ftn -O3 -hfp3 -eZ -ffree -N255 -ec -eC -eI -eF -rm m_utils.o stencil2d-ijblocking-inline.o -o stencil2d-ijblocking-inline.x\n"
     ]
    },
    {
     "name": "stderr",
     "output_type": "stream",
     "text": [
      "INFO: creating the PerfTools-instrumented executable 'stencil2d-ijblocking-inline.x' (lite-samples) ...OK\n"
     ]
    },
    {
     "name": "stdout",
     "output_type": "stream",
     "text": [
      "cp stencil2d-ijblocking-inline.x stencil2d.x\n",
      "make: Leaving directory '/users/class169/Project/HPC4WC_project_ijblocking/Stencil_code'\n",
      "make: Entering directory '/users/class169/Project/HPC4WC_project_ijblocking/Stencil_code'\n",
      "ftn -O3 -hfp3 -eZ -ffree -N255 -ec -eC -eI -eF -rm -c stencil2d-simplecopy-block.F90\n",
      "ftn -O3 -hfp3 -eZ -ffree -N255 -ec -eC -eI -eF -rm m_utils.o stencil2d-simplecopy-block.o -o stencil2d-simplecopy-block.x\n"
     ]
    },
    {
     "name": "stderr",
     "output_type": "stream",
     "text": [
      "INFO: creating the PerfTools-instrumented executable 'stencil2d-simplecopy-block.x' (lite-samples) ...OK\n"
     ]
    },
    {
     "name": "stdout",
     "output_type": "stream",
     "text": [
      "cp stencil2d-simplecopy-block.x stencil2d.x\n",
      "make: Leaving directory '/users/class169/Project/HPC4WC_project_ijblocking/Stencil_code'\n",
      "make: Entering directory '/users/class169/Project/HPC4WC_project_ijblocking/Stencil_code'\n",
      "ftn -O3 -hfp3 -eZ -ffree -N255 -ec -eC -eI -eF -rm -c stencil2d-simplecopy-ij.F90\n",
      "ftn -O3 -hfp3 -eZ -ffree -N255 -ec -eC -eI -eF -rm m_utils.o stencil2d-simplecopy-ij.o -o stencil2d-simplecopy-ij.x\n"
     ]
    },
    {
     "name": "stderr",
     "output_type": "stream",
     "text": [
      "INFO: creating the PerfTools-instrumented executable 'stencil2d-simplecopy-ij.x' (lite-samples) ...OK\n"
     ]
    },
    {
     "name": "stdout",
     "output_type": "stream",
     "text": [
      "cp stencil2d-simplecopy-ij.x stencil2d.x\n",
      "make: Leaving directory '/users/class169/Project/HPC4WC_project_ijblocking/Stencil_code'\n",
      "make: Entering directory '/users/class169/Project/HPC4WC_project_ijblocking/Stencil_code'\n",
      "ftn -O3 -hfp3 -eZ -ffree -N255 -ec -eC -eI -eF -rm -c stencil2d-ijblocking-comp.F90\n",
      "ftn -O3 -hfp3 -eZ -ffree -N255 -ec -eC -eI -eF -rm m_utils.o stencil2d-ijblocking-comp.o -o stencil2d-ijblocking-comp.x\n"
     ]
    },
    {
     "name": "stderr",
     "output_type": "stream",
     "text": [
      "INFO: creating the PerfTools-instrumented executable 'stencil2d-ijblocking-comp.x' (lite-samples) ...OK\n"
     ]
    },
    {
     "name": "stdout",
     "output_type": "stream",
     "text": [
      "cp stencil2d-ijblocking-comp.x stencil2d.x\n",
      "make: Leaving directory '/users/class169/Project/HPC4WC_project_ijblocking/Stencil_code'\n",
      "make: Entering directory '/users/class169/Project/HPC4WC_project_ijblocking/Stencil_code'\n",
      "ftn -O3 -hfp3 -eZ -ffree -N255 -ec -eC -eI -eF -rm -c stencil2d-ijblocking-small.F90\n",
      "ftn -O3 -hfp3 -eZ -ffree -N255 -ec -eC -eI -eF -rm m_utils.o stencil2d-ijblocking-small.o -o stencil2d-ijblocking-small.x\n"
     ]
    },
    {
     "name": "stderr",
     "output_type": "stream",
     "text": [
      "INFO: creating the PerfTools-instrumented executable 'stencil2d-ijblocking-small.x' (lite-samples) ...OK\n"
     ]
    },
    {
     "name": "stdout",
     "output_type": "stream",
     "text": [
      "cp stencil2d-ijblocking-small.x stencil2d.x\n",
      "make: Leaving directory '/users/class169/Project/HPC4WC_project_ijblocking/Stencil_code'\n"
     ]
    }
   ],
   "source": [
    "%%bash\n",
    "module load daint-gpu\n",
    "module switch PrgEnv-gnu PrgEnv-cray\n",
    "module load perftools-lite\n",
    "\n",
    "versions=('kblocking' 'ijblocking-math' 'ijblocking2' 'averaging-nn' 'averaging-nnn' 'lap-nn-ij' 'lap-nnn-ij' 'ijblocking-inline' 'simplecopy-block' 'simplecopy-ij' 'ijblocking-comp' 'ijblocking-small' ) ## THIS SHOULD BE A COPY OF VERSIONS IN CELL BELOW\n",
    "\n",
    "echo \"===== cleaning up =====\"\n",
    "make --directory=../Stencil_code/ clean\n",
    "echo \"===== compiling =====\"\n",
    "for version in \"${versions[@]}\"\n",
    "do \n",
    "    make --directory=../Stencil_code/ VERSION=\"$version\" \n",
    "done"
   ]
  },
  {
   "cell_type": "code",
   "execution_count": 10,
   "id": "565f44df-5861-45c9-ae87-842169cc604d",
   "metadata": {
    "tags": []
   },
   "outputs": [],
   "source": [
    "%%capture cap --no-stderr\n",
    "# srun slurm comand to start a job\n",
    "# -n number of processes requested\n",
    "\n",
    "versions = ['kblocking', 'ijblocking-small', 'ijblocking-inline', 'ijblocking-math', 'ijblocking2',] ## THIS SHOULD BE A COPY OF VERSIONS IN CELL ABOVE\n",
    "\n",
    "\n",
    "output = {}\n",
    "out_field = {}\n",
    "\n",
    "nx = np.array([64,128,256,512,1024,2048])\n",
    "ny = np.array([64])\n",
    "size_i = np.array([32])\n",
    "size_j = np.array([32])\n",
    "num_iter = 256\n",
    "nz = 16\n",
    "\n",
    "      \n",
    "if versions[0] != 'kblocking':\n",
    "    sys.exit('kblocking has to be first in versions. Leads to error in comparisons')\n",
    "\n",
    "runtimes = {key: np.zeros((len(nx)*len(ny)*len(size_i)*len(size_j),5)) for key in versions}\n",
    "ii_index = 0\n",
    "for nx_ in nx:\n",
    "    for ny_ in ny:\n",
    "        for size_i_ in size_i:\n",
    "            \n",
    "            for size_j_ in size_j:\n",
    "                if size_i_>= nx_:\n",
    "                    continue\n",
    "                if size_j_ >= ny_:\n",
    "                    continue\n",
    "                for version in versions:\n",
    "                    command = f\"srun -n 1 ./../Stencil_code/stencil2d-{version}.x+orig --nx {nx_} --ny {ny_} --nz {nz} --size_i {size_i_} --size_j {size_j_} --num_iter {num_iter}\"\n",
    "                    \n",
    "\n",
    "                    if version == 'kblocking' :\n",
    "                        \n",
    "                        command = f\"srun -n 1 ./../Stencil_code/stencil2d-{version}.x+orig --nx {nx_} --ny {ny_} --nz {nz} --num_iter {num_iter}\"\n",
    "                        \n",
    "                        \n",
    "\n",
    "                    print(command)\n",
    "                    out =  !{command}\n",
    "                    print(out)\n",
    "                    output.update({version: out})\n",
    "                    #out_field.update({version: read_field_from_file('out_field.dat')})\n",
    "\n",
    "                #validate_results(out_field, if_plot=False)\n",
    "                pattern = r\"[-+]?\\d*\\.?\\d+(?:[eE][-+]?\\d+)?\"\n",
    "                for i, (key, value) in enumerate(output.items()):\n",
    "                    \n",
    "                    try:\n",
    "                        runtimes[key][ii_index] = [nx_,ny_,size_i_,size_j_,float(re.findall(pattern, value[2])[-1])]\n",
    "                    except:\n",
    "                        runtimes[key][ii_index] = [nx_,ny_,size_i_,size_j_,np.nan]\n",
    "\n",
    "                        \n",
    "                        \n",
    "                ii_index+=1\n",
    "                print('\\n ============================= \\n')\n",
    "\n",
    "\n",
    "with open('saved_runtimes_nx.pkl', 'wb') as f:\n",
    "    pickle.dump(runtimes, f)"
   ]
  },
  {
   "cell_type": "code",
   "execution_count": 11,
   "id": "f82ec30b-2c7c-496d-af50-50ab2bcc9531",
   "metadata": {},
   "outputs": [],
   "source": [
    "with open('best_optimization.txt', 'w') as f:\n",
    "    f.write(cap.stdout)"
   ]
  },
  {
   "cell_type": "code",
   "execution_count": null,
   "id": "4f07149e-cf12-444b-9dd6-bfafc30837db",
   "metadata": {
    "tags": []
   },
   "outputs": [],
   "source": [
    "%%capture cap --no-stderr\n",
    "\n",
    "# srun slurm comand to start a job\n",
    "# -n number of processes requested\n",
    "\n",
    "versions = ['ijblocking-math'] ## THIS SHOULD BE A COPY OF VERSIONS IN CELL ABOVE\n",
    "\n",
    "\n",
    "output = {}\n",
    "out_field = {}\n",
    "\n",
    "nx = np.array([1024*2])\n",
    "ny = np.array([1024*2])\n",
    "\n",
    "size_i = np.array([8,16,32,64,128,256,512,1024,1024*2])\n",
    "size_j = np.array([8,16,32,64,128,256,512,1024,1024*2])\n",
    "\n",
    "num_iter = 256\n",
    "nz = 16\n",
    "\n",
    "\n",
    "runtimes = {key: np.zeros((len(nx)*len(ny)*len(size_i)*len(size_j),5)) for key in versions}\n",
    "ii_index = 0\n",
    "for nx_ in nx:\n",
    "    for ny_ in ny:\n",
    "        for size_i_ in size_i:\n",
    "            \n",
    "            for size_j_ in size_j:\n",
    "                for version in versions:\n",
    "                    command = f\"srun -n 1 ./../Stencil_code/stencil2d-{version}.x+orig --nx {nx_} --ny {ny_} --nz {nz} --size_i {size_i_} --size_j {size_j_} --num_iter {num_iter}\"\n",
    "                    \n",
    "\n",
    "                    if version == 'kblocking' :\n",
    "                        \n",
    "                        command = f\"srun -n 1 ./../Stencil_code/stencil2d-{version}.x+orig --nx {nx_} --ny {ny_} --nz {nz} --num_iter {num_iter}\"\n",
    "                        \n",
    "                        \n",
    "\n",
    "                    print(command)\n",
    "                    out =  !{command}\n",
    "                    print(out)\n",
    "                    output.update({version: out})\n",
    "                    #out_field.update({version: read_field_from_file('out_field.dat')})\n",
    "\n",
    "                #validate_results(out_field, if_plot=False)\n",
    "                pattern = r\"[-+]?\\d*\\.?\\d+(?:[eE][-+]?\\d+)?\"\n",
    "                for i, (key, value) in enumerate(output.items()):\n",
    "                    \n",
    "                    try:\n",
    "                        runtimes[key][ii_index] = [nx_,ny_,size_i_,size_j_,float(re.findall(pattern, value[2])[-1])]\n",
    "                    except:\n",
    "                        runtimes[key][ii_index] = [nx_,ny_,size_i_,size_j_,np.nan]\n",
    "\n",
    "                        \n",
    "                        \n",
    "                ii_index+=1\n",
    "                print('\\n ============================= \\n')\n"
   ]
  },
  {
   "cell_type": "code",
   "execution_count": null,
   "id": "b50530b5-1952-4614-bdea-b3b3b4ffa1e6",
   "metadata": {},
   "outputs": [],
   "source": [
    "with open('best_shape.txt', 'w') as f:\n",
    "    f.write(cap.stdout)"
   ]
  }
 ],
 "metadata": {
  "kernelspec": {
   "display_name": "HPC4WC_kernel",
   "language": "python",
   "name": "hpc4wc_kernel"
  },
  "language_info": {
   "codemirror_mode": {
    "name": "ipython",
    "version": 3
   },
   "file_extension": ".py",
   "mimetype": "text/x-python",
   "name": "python",
   "nbconvert_exporter": "python",
   "pygments_lexer": "ipython3",
   "version": "3.9.4"
  }
 },
 "nbformat": 4,
 "nbformat_minor": 5
}
