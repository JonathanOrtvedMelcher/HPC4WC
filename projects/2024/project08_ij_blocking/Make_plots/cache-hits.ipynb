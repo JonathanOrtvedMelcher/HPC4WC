{
 "cells": [
  {
   "cell_type": "markdown",
   "id": "5a686cfd-99c1-4ffe-a803-a967f781dc15",
   "metadata": {},
   "source": [
    "# Hit rates"
   ]
  },
  {
   "cell_type": "markdown",
   "id": "cae47849-3032-443d-af3c-0db218ae9618",
   "metadata": {},
   "source": [
    "for hit and miss rates kblocking:"
   ]
  },
  {
   "cell_type": "code",
   "execution_count": 1,
   "id": "642bcb7c-f8bf-4942-b932-643c15e9dd7a",
   "metadata": {},
   "outputs": [
    {
     "name": "stdout",
     "output_type": "stream",
     "text": [
      "===== cleaning up =====\n",
      "make: Entering directory '/users/class169/Project/HPC4WC_project_ijblocking/Stencil_code'\n",
      "rm -f -rf *~ *.o *.mod *.MOD *.i core.* *.out *.lst *.x *.x+orig *.x+[0-9]* *.dat *.report result_*.py\n",
      "make: Leaving directory '/users/class169/Project/HPC4WC_project_ijblocking/Stencil_code'\n",
      "===== compiling =====\n",
      "make: Entering directory '/users/class169/Project/HPC4WC_project_ijblocking/Stencil_code'\n",
      "ftn -O3 -hfp3 -eZ -ffree -N255 -ec -eC -eI -eF -rm -c m_utils.F90\n",
      "ftn -O3 -hfp3 -eZ -ffree -N255 -ec -eC -eI -eF -rm -c stencil2d-kblocking.F90\n",
      "ftn -O3 -hfp3 -eZ -ffree -N255 -ec -eC -eI -eF -rm m_utils.o stencil2d-kblocking.o -o stencil2d-kblocking.x\n",
      "cp stencil2d-kblocking.x stencil2d.x\n",
      "make: Leaving directory '/users/class169/Project/HPC4WC_project_ijblocking/Stencil_code'\n"
     ]
    }
   ],
   "source": [
    "\n",
    "%%bash\n",
    "module load daint-gpu\n",
    "module switch PrgEnv-gnu PrgEnv-cray\n",
    "module load perftools\n",
    "\n",
    "echo \"===== cleaning up =====\"\n",
    "make --directory=../Stencil_code/ clean\n",
    "echo \"===== compiling =====\"\n",
    "make --directory=../Stencil_code/ VERSION=kblocking\n",
    "\n"
   ]
  },
  {
   "cell_type": "code",
   "execution_count": 2,
   "id": "557aa23b-06dc-4551-b30b-6a0f2c28dfc7",
   "metadata": {},
   "outputs": [
    {
     "name": "stderr",
     "output_type": "stream",
     "text": [
      "FATAL: The file 'stencil2d-kblocking.x+pat' already exists.\n",
      "CrayPat/X:  Version 21.09.0 Revision b02949528  08/17/21 03:14:02\n"
     ]
    },
    {
     "name": "stdout",
     "output_type": "stream",
     "text": [
      "# ranks nx ny nz num_iter time\n",
      "data = np.array( [ \\\n",
      "[    1, 4096, 4096,   16,     256,  0.1830608E+03], \\\n",
      "] )\n"
     ]
    },
    {
     "name": "stderr",
     "output_type": "stream",
     "text": [
      "Experiment data directory written:\n",
      "/users/class169/Project/HPC4WC_project_ijblocking/Make_plots/stencil2d-kblocking.x+pat+13236-2342t\n"
     ]
    }
   ],
   "source": [
    "%%bash\n",
    "pat_build -Drtenv=PAT_RT_PERFCTR=1 -g mpi -u ../Stencil_code/stencil2d-kblocking.x\n",
    "srun -n 1 stencil2d-kblocking.x+pat --nx 4096 --ny 4096 --nz 16 --num_iter 256"
   ]
  },
  {
   "cell_type": "code",
   "execution_count": 3,
   "id": "4ba6c7d7-eb70-4673-8213-7693d51f0393",
   "metadata": {},
   "outputs": [
    {
     "name": "stderr",
     "output_type": "stream",
     "text": [
      "Processing step 10 of 10\n"
     ]
    }
   ],
   "source": [
    "%%bash\n",
    "pat_report -o report_kblocking.txt stencil2d-kblocking.x+pat+*\n"
   ]
  },
  {
   "cell_type": "code",
   "execution_count": 4,
   "id": "65244073-ee24-468f-ac09-c12c816f32a9",
   "metadata": {},
   "outputs": [
    {
     "name": "stdout",
     "output_type": "stream",
     "text": [
      "===== cleaning up =====\n",
      "make: Entering directory '/users/class169/Project/HPC4WC_project_ijblocking/Stencil_code'\n",
      "rm -f -rf *~ *.o *.mod *.MOD *.i core.* *.out *.lst *.x *.x+orig *.x+[0-9]* *.dat *.report result_*.py\n",
      "make: Leaving directory '/users/class169/Project/HPC4WC_project_ijblocking/Stencil_code'\n",
      "===== compiling =====\n",
      "make: Entering directory '/users/class169/Project/HPC4WC_project_ijblocking/Stencil_code'\n",
      "ftn -O3 -hfp3 -eZ -ffree -N255 -ec -eC -eI -eF -rm -c m_utils.F90\n",
      "ftn -O3 -hfp3 -eZ -ffree -N255 -ec -eC -eI -eF -rm -c stencil2d-ijblocking-math.F90\n",
      "ftn -O3 -hfp3 -eZ -ffree -N255 -ec -eC -eI -eF -rm m_utils.o stencil2d-ijblocking-math.o -o stencil2d-ijblocking-math.x\n",
      "cp stencil2d-ijblocking-math.x stencil2d.x\n",
      "make: Leaving directory '/users/class169/Project/HPC4WC_project_ijblocking/Stencil_code'\n"
     ]
    },
    {
     "name": "stderr",
     "output_type": "stream",
     "text": [
      "FATAL: The file 'stencil2d-ijblocking-math.x+pat' already exists.\n",
      "CrayPat/X:  Version 21.09.0 Revision b02949528  08/17/21 03:14:02\n"
     ]
    },
    {
     "name": "stdout",
     "output_type": "stream",
     "text": [
      "# ranks nx ny nz num_iter time\n",
      "data = np.array( [ \\\n",
      "[    1, 4096, 4096,   16,     256,  0.1519502E+03], \\\n",
      "] )\n"
     ]
    },
    {
     "name": "stderr",
     "output_type": "stream",
     "text": [
      "Experiment data directory written:\n",
      "/users/class169/Project/HPC4WC_project_ijblocking/Make_plots/stencil2d-ijblocking-math.x+pat+13531-2342t\n"
     ]
    }
   ],
   "source": [
    "%%bash\n",
    "module load daint-gpu\n",
    "module switch PrgEnv-gnu PrgEnv-cray\n",
    "module load perftools\n",
    "\n",
    "echo \"===== cleaning up =====\"\n",
    "make --directory=../Stencil_code/ clean\n",
    "\n",
    "echo \"===== compiling =====\"\n",
    "make --directory=../Stencil_code/ VERSION=ijblocking-math\n",
    "\n",
    "pat_build -Drtenv=PAT_RT_PERFCTR=1 -g mpi -u ../Stencil_code/stencil2d-ijblocking-math.x\n",
    "srun -n 1 stencil2d-ijblocking-math.x+pat --nx 4096 --ny 4096 --nz 16 --num_iter 256 --size_i 64 --size_j 64"
   ]
  },
  {
   "cell_type": "code",
   "execution_count": 5,
   "id": "46406d3a-a9e8-4edf-a495-04f45ebefd1b",
   "metadata": {},
   "outputs": [
    {
     "name": "stderr",
     "output_type": "stream",
     "text": [
      "### Error: 'Directory stencil2d-ijblocking-math.x+pat+13531-2342t contains no .ap2 files'\n",
      "client: cmdPipe closed!\n"
     ]
    },
    {
     "ename": "CalledProcessError",
     "evalue": "Command 'b'pat_report -o report_ijblocking_math.txt stencil2d-ijblocking-math.x+pat+*\\n'' returned non-zero exit status 1.",
     "output_type": "error",
     "traceback": [
      "\u001b[0;31m---------------------------------------------------------------------------\u001b[0m",
      "\u001b[0;31mCalledProcessError\u001b[0m                        Traceback (most recent call last)",
      "Input \u001b[0;32mIn [5]\u001b[0m, in \u001b[0;36m<module>\u001b[0;34m\u001b[0m\n\u001b[0;32m----> 1\u001b[0m \u001b[43mget_ipython\u001b[49m\u001b[43m(\u001b[49m\u001b[43m)\u001b[49m\u001b[38;5;241;43m.\u001b[39;49m\u001b[43mrun_cell_magic\u001b[49m\u001b[43m(\u001b[49m\u001b[38;5;124;43m'\u001b[39;49m\u001b[38;5;124;43mbash\u001b[39;49m\u001b[38;5;124;43m'\u001b[39;49m\u001b[43m,\u001b[49m\u001b[43m \u001b[49m\u001b[38;5;124;43m'\u001b[39;49m\u001b[38;5;124;43m'\u001b[39;49m\u001b[43m,\u001b[49m\u001b[43m \u001b[49m\u001b[38;5;124;43m'\u001b[39;49m\u001b[38;5;124;43mpat_report -o report_ijblocking_math.txt stencil2d-ijblocking-math.x+pat+*\u001b[39;49m\u001b[38;5;130;43;01m\\n\u001b[39;49;00m\u001b[38;5;124;43m'\u001b[39;49m\u001b[43m)\u001b[49m\n",
      "File \u001b[0;32m/apps/daint/UES/jenkins/7.0.UP03/21.09/daint-gpu/software/jupyterlab/3.2.8-CrayGNU-21.09-batchspawner-cuda/lib/python3.9/site-packages/IPython/core/interactiveshell.py:2257\u001b[0m, in \u001b[0;36mInteractiveShell.run_cell_magic\u001b[0;34m(self, magic_name, line, cell)\u001b[0m\n\u001b[1;32m   2255\u001b[0m \u001b[38;5;28;01mwith\u001b[39;00m \u001b[38;5;28mself\u001b[39m\u001b[38;5;241m.\u001b[39mbuiltin_trap:\n\u001b[1;32m   2256\u001b[0m     args \u001b[38;5;241m=\u001b[39m (magic_arg_s, cell)\n\u001b[0;32m-> 2257\u001b[0m     result \u001b[38;5;241m=\u001b[39m \u001b[43mfn\u001b[49m\u001b[43m(\u001b[49m\u001b[38;5;241;43m*\u001b[39;49m\u001b[43margs\u001b[49m\u001b[43m,\u001b[49m\u001b[43m \u001b[49m\u001b[38;5;241;43m*\u001b[39;49m\u001b[38;5;241;43m*\u001b[39;49m\u001b[43mkwargs\u001b[49m\u001b[43m)\u001b[49m\n\u001b[1;32m   2258\u001b[0m \u001b[38;5;28;01mreturn\u001b[39;00m result\n",
      "File \u001b[0;32m/apps/daint/UES/jenkins/7.0.UP03/21.09/daint-gpu/software/jupyterlab/3.2.8-CrayGNU-21.09-batchspawner-cuda/lib/python3.9/site-packages/IPython/core/magics/script.py:153\u001b[0m, in \u001b[0;36mScriptMagics._make_script_magic.<locals>.named_script_magic\u001b[0;34m(line, cell)\u001b[0m\n\u001b[1;32m    151\u001b[0m \u001b[38;5;28;01melse\u001b[39;00m:\n\u001b[1;32m    152\u001b[0m     line \u001b[38;5;241m=\u001b[39m script\n\u001b[0;32m--> 153\u001b[0m \u001b[38;5;28;01mreturn\u001b[39;00m \u001b[38;5;28;43mself\u001b[39;49m\u001b[38;5;241;43m.\u001b[39;49m\u001b[43mshebang\u001b[49m\u001b[43m(\u001b[49m\u001b[43mline\u001b[49m\u001b[43m,\u001b[49m\u001b[43m \u001b[49m\u001b[43mcell\u001b[49m\u001b[43m)\u001b[49m\n",
      "File \u001b[0;32m/apps/daint/UES/jenkins/7.0.UP03/21.09/daint-gpu/software/jupyterlab/3.2.8-CrayGNU-21.09-batchspawner-cuda/lib/python3.9/site-packages/IPython/core/magics/script.py:305\u001b[0m, in \u001b[0;36mScriptMagics.shebang\u001b[0;34m(self, line, cell)\u001b[0m\n\u001b[1;32m    300\u001b[0m \u001b[38;5;28;01mif\u001b[39;00m args\u001b[38;5;241m.\u001b[39mraise_error \u001b[38;5;129;01mand\u001b[39;00m p\u001b[38;5;241m.\u001b[39mreturncode \u001b[38;5;241m!=\u001b[39m \u001b[38;5;241m0\u001b[39m:\n\u001b[1;32m    301\u001b[0m     \u001b[38;5;66;03m# If we get here and p.returncode is still None, we must have\u001b[39;00m\n\u001b[1;32m    302\u001b[0m     \u001b[38;5;66;03m# killed it but not yet seen its return code. We don't wait for it,\u001b[39;00m\n\u001b[1;32m    303\u001b[0m     \u001b[38;5;66;03m# in case it's stuck in uninterruptible sleep. -9 = SIGKILL\u001b[39;00m\n\u001b[1;32m    304\u001b[0m     rc \u001b[38;5;241m=\u001b[39m p\u001b[38;5;241m.\u001b[39mreturncode \u001b[38;5;129;01mor\u001b[39;00m \u001b[38;5;241m-\u001b[39m\u001b[38;5;241m9\u001b[39m\n\u001b[0;32m--> 305\u001b[0m     \u001b[38;5;28;01mraise\u001b[39;00m CalledProcessError(rc, cell)\n",
      "\u001b[0;31mCalledProcessError\u001b[0m: Command 'b'pat_report -o report_ijblocking_math.txt stencil2d-ijblocking-math.x+pat+*\\n'' returned non-zero exit status 1."
     ]
    }
   ],
   "source": [
    "%%bash\n",
    "pat_report -o report_ijblocking_math.txt stencil2d-ijblocking-math.x+pat+*"
   ]
  },
  {
   "cell_type": "code",
   "execution_count": null,
   "id": "c3d35bb2-6afa-403a-a08c-68e69f8e6b7c",
   "metadata": {},
   "outputs": [],
   "source": []
  }
 ],
 "metadata": {
  "kernelspec": {
   "display_name": "HPC4WC_kernel",
   "language": "python",
   "name": "hpc4wc_kernel"
  },
  "language_info": {
   "codemirror_mode": {
    "name": "ipython",
    "version": 3
   },
   "file_extension": ".py",
   "mimetype": "text/x-python",
   "name": "python",
   "nbconvert_exporter": "python",
   "pygments_lexer": "ipython3",
   "version": "3.9.4"
  }
 },
 "nbformat": 4,
 "nbformat_minor": 5
}
