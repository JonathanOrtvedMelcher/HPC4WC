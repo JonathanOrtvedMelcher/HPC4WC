{
 "cells": [
  {
   "cell_type": "markdown",
   "id": "8b437e45-830b-4c63-b134-b068de4408bb",
   "metadata": {
    "tags": []
   },
   "source": [
    "# Experiment 4: different algorithmic motifs"
   ]
  },
  {
   "cell_type": "code",
   "execution_count": 1,
   "id": "17d45511-0e97-4c25-9e43-0ef4e4c25811",
   "metadata": {},
   "outputs": [],
   "source": [
    "import numpy as np\n",
    "import matplotlib\n",
    "import matplotlib.pyplot as plt"
   ]
  },
  {
   "cell_type": "code",
   "execution_count": 2,
   "id": "9120597a-e1a3-4041-a1eb-0ba24b2723f2",
   "metadata": {},
   "outputs": [
    {
     "name": "stdout",
     "output_type": "stream",
     "text": [
      "make: Entering directory '/users/class169/Project/HPC4WC_project_ijblocking/Stencil_code'\n",
      "rm -f -rf *~ *.o *.mod *.MOD *.i core.* *.out *.lst *.x *.x+orig *.x+[0-9]* *.dat *.report result_*.py\n",
      "make: Leaving directory '/users/class169/Project/HPC4WC_project_ijblocking/Stencil_code'\n"
     ]
    }
   ],
   "source": [
    "%%bash\n",
    "make --directory=../Stencil_code/ clean"
   ]
  },
  {
   "cell_type": "code",
   "execution_count": 3,
   "id": "a26279c3-4d3e-45b1-959e-c5da69a709e2",
   "metadata": {},
   "outputs": [],
   "source": [
    "def read_field_from_file(filename, num_halo=None):\n",
    "    (rank, nbits, num_halo, nx, ny, nz) = np.fromfile(filename, dtype=np.int32, count=6)\n",
    "    offset=(3 + rank) * 32 // nbits\n",
    "    data = np.fromfile(filename, dtype=np.float32 if nbits == 32 else np.float64, \\\n",
    "                       count=nz * ny * nx + offset)\n",
    "    if rank == 3:\n",
    "        return np.reshape(data[offset:], (nz, ny, nx))\n",
    "    else:\n",
    "        return np.reshape(data[offset:], (ny, nx))\n",
    "\n",
    "def validate_results():\n",
    "    fig, axs = plt.subplots(1, 2, figsize=(12, 4))\n",
    "\n",
    "    in_field = read_field_from_file('in_field.dat')\n",
    "    k_lev = in_field.shape[0] // 2\n",
    "    im1 = axs[0].imshow(in_field[k_lev, :, :], origin='lower', vmin=-0.1, vmax=1.1);\n",
    "    fig.colorbar(im1, ax=axs[0]);\n",
    "    axs[0].set_title('Initial condition (k = {})'.format(k_lev));\n",
    "\n",
    "    out_field = read_field_from_file('out_field.dat')\n",
    "    k_lev = out_field.shape[0] // 2\n",
    "    im2 = axs[1].imshow(out_field[k_lev, :, :], origin='lower', vmin=-0.1, vmax=1.1);\n",
    "    fig.colorbar(im2, ax=axs[1]);\n",
    "    axs[1].set_title('Final result (k = {})'.format(k_lev));\n",
    "    \n",
    "    plt.show()"
   ]
  },
  {
   "cell_type": "markdown",
   "id": "9302b306-4371-4374-bbcb-182cdc391974",
   "metadata": {},
   "source": [
    "First: look at different algorithmic complexities."
   ]
  },
  {
   "cell_type": "code",
   "execution_count": 4,
   "id": "f55add72-744e-46b5-9fdd-a42fb24e6055",
   "metadata": {},
   "outputs": [
    {
     "name": "stdout",
     "output_type": "stream",
     "text": [
      "===== cleaning up =====\n",
      "make: Entering directory '/users/class169/Project/HPC4WC_project_ijblocking/Stencil_code'\n",
      "rm -f -rf *~ *.o *.mod *.MOD *.i core.* *.out *.lst *.x *.x+orig *.x+[0-9]* *.dat *.report result_*.py\n",
      "make: Leaving directory '/users/class169/Project/HPC4WC_project_ijblocking/Stencil_code'\n",
      "===== compiling =====\n",
      "make: Entering directory '/users/class169/Project/HPC4WC_project_ijblocking/Stencil_code'\n",
      "ftn -O3 -hfp3 -eZ -ffree -N255 -ec -eC -eI -eF -rm -c m_utils.F90\n",
      "ftn -O3 -hfp3 -eZ -ffree -N255 -ec -eC -eI -eF -rm -c stencil2d-kblocking.F90\n",
      "ftn -O3 -hfp3 -eZ -ffree -N255 -ec -eC -eI -eF -rm m_utils.o stencil2d-kblocking.o -o stencil2d-kblocking.x\n"
     ]
    },
    {
     "name": "stderr",
     "output_type": "stream",
     "text": [
      "INFO: creating the PerfTools-instrumented executable 'stencil2d-kblocking.x' (lite-samples) ...OK\n"
     ]
    },
    {
     "name": "stdout",
     "output_type": "stream",
     "text": [
      "cp stencil2d-kblocking.x stencil2d.x\n",
      "make: Leaving directory '/users/class169/Project/HPC4WC_project_ijblocking/Stencil_code'\n",
      "make: Entering directory '/users/class169/Project/HPC4WC_project_ijblocking/Stencil_code'\n",
      "ftn -O3 -hfp3 -eZ -ffree -N255 -ec -eC -eI -eF -rm -c stencil2d-averaging-nn.F90\n",
      "ftn -O3 -hfp3 -eZ -ffree -N255 -ec -eC -eI -eF -rm m_utils.o stencil2d-averaging-nn.o -o stencil2d-averaging-nn.x\n"
     ]
    },
    {
     "name": "stderr",
     "output_type": "stream",
     "text": [
      "INFO: creating the PerfTools-instrumented executable 'stencil2d-averaging-nn.x' (lite-samples) ...OK\n"
     ]
    },
    {
     "name": "stdout",
     "output_type": "stream",
     "text": [
      "cp stencil2d-averaging-nn.x stencil2d.x\n",
      "make: Leaving directory '/users/class169/Project/HPC4WC_project_ijblocking/Stencil_code'\n",
      "make: Entering directory '/users/class169/Project/HPC4WC_project_ijblocking/Stencil_code'\n",
      "ftn -O3 -hfp3 -eZ -ffree -N255 -ec -eC -eI -eF -rm -c stencil2d-averaging-nnn.F90\n",
      "ftn -O3 -hfp3 -eZ -ffree -N255 -ec -eC -eI -eF -rm m_utils.o stencil2d-averaging-nnn.o -o stencil2d-averaging-nnn.x\n"
     ]
    },
    {
     "name": "stderr",
     "output_type": "stream",
     "text": [
      "INFO: creating the PerfTools-instrumented executable 'stencil2d-averaging-nnn.x' (lite-samples) ...OK\n"
     ]
    },
    {
     "name": "stdout",
     "output_type": "stream",
     "text": [
      "cp stencil2d-averaging-nnn.x stencil2d.x\n",
      "make: Leaving directory '/users/class169/Project/HPC4WC_project_ijblocking/Stencil_code'\n",
      "make: Entering directory '/users/class169/Project/HPC4WC_project_ijblocking/Stencil_code'\n",
      "ftn -O3 -hfp3 -eZ -ffree -N255 -ec -eC -eI -eF -rm -c stencil2d-averaging-nn-ij.F90\n",
      "ftn -O3 -hfp3 -eZ -ffree -N255 -ec -eC -eI -eF -rm m_utils.o stencil2d-averaging-nn-ij.o -o stencil2d-averaging-nn-ij.x\n"
     ]
    },
    {
     "name": "stderr",
     "output_type": "stream",
     "text": [
      "INFO: creating the PerfTools-instrumented executable 'stencil2d-averaging-nn-ij.x' (lite-samples) ...OK\n"
     ]
    },
    {
     "name": "stdout",
     "output_type": "stream",
     "text": [
      "cp stencil2d-averaging-nn-ij.x stencil2d.x\n",
      "make: Leaving directory '/users/class169/Project/HPC4WC_project_ijblocking/Stencil_code'\n",
      "make: Entering directory '/users/class169/Project/HPC4WC_project_ijblocking/Stencil_code'\n",
      "ftn -O3 -hfp3 -eZ -ffree -N255 -ec -eC -eI -eF -rm -c stencil2d-averaging-nnn-ij.F90\n",
      "ftn -O3 -hfp3 -eZ -ffree -N255 -ec -eC -eI -eF -rm m_utils.o stencil2d-averaging-nnn-ij.o -o stencil2d-averaging-nnn-ij.x\n"
     ]
    },
    {
     "name": "stderr",
     "output_type": "stream",
     "text": [
      "INFO: creating the PerfTools-instrumented executable 'stencil2d-averaging-nnn-ij.x' (lite-samples) ...OK\n"
     ]
    },
    {
     "name": "stdout",
     "output_type": "stream",
     "text": [
      "cp stencil2d-averaging-nnn-ij.x stencil2d.x\n",
      "make: Leaving directory '/users/class169/Project/HPC4WC_project_ijblocking/Stencil_code'\n",
      "make: Entering directory '/users/class169/Project/HPC4WC_project_ijblocking/Stencil_code'\n",
      "ftn -O3 -hfp3 -eZ -ffree -N255 -ec -eC -eI -eF -rm -c stencil2d-lap-nn.F90\n",
      "ftn -O3 -hfp3 -eZ -ffree -N255 -ec -eC -eI -eF -rm m_utils.o stencil2d-lap-nn.o -o stencil2d-lap-nn.x\n"
     ]
    },
    {
     "name": "stderr",
     "output_type": "stream",
     "text": [
      "INFO: creating the PerfTools-instrumented executable 'stencil2d-lap-nn.x' (lite-samples) ...OK\n"
     ]
    },
    {
     "name": "stdout",
     "output_type": "stream",
     "text": [
      "cp stencil2d-lap-nn.x stencil2d.x\n",
      "make: Leaving directory '/users/class169/Project/HPC4WC_project_ijblocking/Stencil_code'\n",
      "make: Entering directory '/users/class169/Project/HPC4WC_project_ijblocking/Stencil_code'\n",
      "ftn -O3 -hfp3 -eZ -ffree -N255 -ec -eC -eI -eF -rm -c stencil2d-lap-nnn.F90\n",
      "ftn -O3 -hfp3 -eZ -ffree -N255 -ec -eC -eI -eF -rm m_utils.o stencil2d-lap-nnn.o -o stencil2d-lap-nnn.x\n"
     ]
    },
    {
     "name": "stderr",
     "output_type": "stream",
     "text": [
      "INFO: creating the PerfTools-instrumented executable 'stencil2d-lap-nnn.x' (lite-samples) ...OK\n"
     ]
    },
    {
     "name": "stdout",
     "output_type": "stream",
     "text": [
      "cp stencil2d-lap-nnn.x stencil2d.x\n",
      "make: Leaving directory '/users/class169/Project/HPC4WC_project_ijblocking/Stencil_code'\n",
      "make: Entering directory '/users/class169/Project/HPC4WC_project_ijblocking/Stencil_code'\n",
      "ftn -O3 -hfp3 -eZ -ffree -N255 -ec -eC -eI -eF -rm -c stencil2d-lap-nn-ij.F90\n",
      "ftn -O3 -hfp3 -eZ -ffree -N255 -ec -eC -eI -eF -rm m_utils.o stencil2d-lap-nn-ij.o -o stencil2d-lap-nn-ij.x\n"
     ]
    },
    {
     "name": "stderr",
     "output_type": "stream",
     "text": [
      "INFO: creating the PerfTools-instrumented executable 'stencil2d-lap-nn-ij.x' (lite-samples) ...OK\n"
     ]
    },
    {
     "name": "stdout",
     "output_type": "stream",
     "text": [
      "cp stencil2d-lap-nn-ij.x stencil2d.x\n",
      "make: Leaving directory '/users/class169/Project/HPC4WC_project_ijblocking/Stencil_code'\n",
      "make: Entering directory '/users/class169/Project/HPC4WC_project_ijblocking/Stencil_code'\n",
      "ftn -O3 -hfp3 -eZ -ffree -N255 -ec -eC -eI -eF -rm -c stencil2d-lap-nnn-ij.F90\n",
      "ftn -O3 -hfp3 -eZ -ffree -N255 -ec -eC -eI -eF -rm m_utils.o stencil2d-lap-nnn-ij.o -o stencil2d-lap-nnn-ij.x\n"
     ]
    },
    {
     "name": "stderr",
     "output_type": "stream",
     "text": [
      "INFO: creating the PerfTools-instrumented executable 'stencil2d-lap-nnn-ij.x' (lite-samples) ...OK\n"
     ]
    },
    {
     "name": "stdout",
     "output_type": "stream",
     "text": [
      "cp stencil2d-lap-nnn-ij.x stencil2d.x\n",
      "make: Leaving directory '/users/class169/Project/HPC4WC_project_ijblocking/Stencil_code'\n",
      "make: Entering directory '/users/class169/Project/HPC4WC_project_ijblocking/Stencil_code'\n",
      "ftn -O3 -hfp3 -eZ -ffree -N255 -ec -eC -eI -eF -rm -c stencil2d-ijblocking-inline.F90\n",
      "ftn -O3 -hfp3 -eZ -ffree -N255 -ec -eC -eI -eF -rm m_utils.o stencil2d-ijblocking-inline.o -o stencil2d-ijblocking-inline.x\n"
     ]
    },
    {
     "name": "stderr",
     "output_type": "stream",
     "text": [
      "INFO: creating the PerfTools-instrumented executable 'stencil2d-ijblocking-inline.x' (lite-samples) ...OK\n"
     ]
    },
    {
     "name": "stdout",
     "output_type": "stream",
     "text": [
      "cp stencil2d-ijblocking-inline.x stencil2d.x\n",
      "make: Leaving directory '/users/class169/Project/HPC4WC_project_ijblocking/Stencil_code'\n"
     ]
    }
   ],
   "source": [
    "%%bash\n",
    "module load daint-gpu\n",
    "module switch PrgEnv-gnu PrgEnv-cray\n",
    "module load perftools-lite\n",
    "\n",
    "versions=('kblocking' 'averaging-nn' 'averaging-nnn' 'averaging-nn-ij' 'averaging-nnn-ij' 'lap-nn' 'lap-nnn' 'lap-nn-ij' 'lap-nnn-ij' 'ijblocking-inline') ## THIS SHOULD BE A COPY OF VERSIONS IN CELL BELOW\n",
    "\n",
    "PAT_RT_EXPFILE_DIR=Flops_reports\n",
    "\n",
    "echo \"===== cleaning up =====\"\n",
    "make --directory=../Stencil_code/ clean\n",
    "echo \"===== compiling =====\"\n",
    "for version in \"${versions[@]}\"\n",
    "do \n",
    "       make --directory=../Stencil_code/ VERSION=\"$version\"\n",
    "done\n"
   ]
  },
  {
   "cell_type": "markdown",
   "id": "a7e7a634-747b-4aa7-90c4-1f8d8242788e",
   "metadata": {},
   "source": [
    "\n",
    "\n",
    "\n",
    "For each algorithm, get the CrayPat report to analyze the performance. From these, obtain Memory bandwidth and throughput.\n",
    "Plot those in a scatter plot."
   ]
  },
  {
   "cell_type": "code",
   "execution_count": 5,
   "id": "437efccc-f0d4-4643-a6b1-bfe52b47c63d",
   "metadata": {},
   "outputs": [
    {
     "name": "stderr",
     "output_type": "stream",
     "text": [
      "CrayPat/X:  Version 21.09.0 Revision b02949528  08/17/21 03:14:02\n",
      "CrayPat/X:  Version 21.09.0 Revision b02949528  08/17/21 03:14:02\n",
      "CrayPat/X:  Version 21.09.0 Revision b02949528  08/17/21 03:14:02\n",
      "CrayPat/X:  Version 21.09.0 Revision b02949528  08/17/21 03:14:02\n",
      "CrayPat/X:  Version 21.09.0 Revision b02949528  08/17/21 03:14:02\n",
      "CrayPat/X:  Version 21.09.0 Revision b02949528  08/17/21 03:14:02\n",
      "CrayPat/X:  Version 21.09.0 Revision b02949528  08/17/21 03:14:02\n",
      "CrayPat/X:  Version 21.09.0 Revision b02949528  08/17/21 03:14:02\n",
      "srun: Job 55705983 step creation temporarily disabled, retrying (Requested nodes are busy)\n",
      "srun: Step created for job 55705983\n",
      "CrayPat/X:  Version 21.09.0 Revision b02949528  08/17/21 03:14:02\n",
      "CrayPat/X:  Version 21.09.0 Revision b02949528  08/17/21 03:14:02\n"
     ]
    }
   ],
   "source": []
  },
  {
   "cell_type": "code",
   "execution_count": 6,
   "id": "ff1c046c-1d5e-4bc1-b2a4-bea69ab24542",
   "metadata": {},
   "outputs": [],
   "source": [
    "nx = 128\n",
    "ny = 128\n",
    "nz = 64\n",
    "\n",
    "grid_size = nx * ny * nz\n",
    "num_it = 128\n",
    "\n",
    "versions = ['kblocking', 'averaging-nn', 'averaging-nnn', 'averaging-nn-ij','averaging-nnn-ij', 'lap-nn', 'lap-nnn', 'lap-nn-ij', 'lap-nnn-ij', 'ijblocking-inline']\n",
    "\n",
    "# get FLOPs\n",
    "flops_in_diffusion = np.array([12, 4, 8, 4, 8, 7, 11, 7, 11, 12])\n",
    "flops = num_it * grid_size * flops_in_diffusion\n",
    "\n",
    "# get runtimes\n",
    "runtimes = np.array([0.1824892, 0.1131914, 0.1421688, 0.05035949, 0.05049801, 0.1164947, 0.1384563, 0.9790103, 0.1610198, 0.5269926])\n",
    "                    \n",
    "#for i, v in enumerate(versions):\n",
    "#    command = f\"!srun -n 1 ./stencil2d-{v}.x+orig --nx 128 --ny 128 --nz 64 --num_iter 1\"\n",
    "#    exec(output.nlstr)\n",
    "#    runtimes[i] = data[0,-1]\n",
    "\n",
    "# get throughput\n",
    "throughput = flops/runtimes\n"
   ]
  },
  {
   "cell_type": "code",
   "execution_count": 7,
   "id": "a11d964c-b130-4e04-ae27-a0f31e8b8563",
   "metadata": {},
   "outputs": [
    {
     "data": {
      "text/plain": [
       "array([8.82579756e+09, 4.74303624e+09, 7.55258414e+09, 1.06607694e+10,\n",
       "       2.12630522e+10, 8.06495142e+09, 1.06632563e+10, 9.59667223e+08,\n",
       "       9.16902771e+09, 3.05623406e+09])"
      ]
     },
     "execution_count": 7,
     "metadata": {},
     "output_type": "execute_result"
    }
   ],
   "source": [
    "throughput"
   ]
  },
  {
   "cell_type": "code",
   "execution_count": 8,
   "id": "9470937d-09b2-4f9e-adae-7930d0439b1b",
   "metadata": {},
   "outputs": [
    {
     "data": {
      "text/plain": [
       "array([1610612736,  536870912, 1073741824,  536870912, 1073741824,\n",
       "        939524096, 1476395008,  939524096, 1476395008, 1610612736])"
      ]
     },
     "execution_count": 8,
     "metadata": {},
     "output_type": "execute_result"
    }
   ],
   "source": [
    "flops"
   ]
  },
  {
   "cell_type": "code",
   "execution_count": 9,
   "id": "7cd8adc4-75ea-41a1-a2ed-f80c6a548f71",
   "metadata": {},
   "outputs": [
    {
     "data": {
      "image/png": "[encoded data removed]",
      "text/plain": [
       "<Figure size 432x288 with 1 Axes>"
      ]
     },
     "metadata": {
      "needs_background": "light"
     },
     "output_type": "display_data"
    }
   ],
   "source": [
    "plt.scatter(flops, runtimes)\n",
    "\n",
    "for i, v in enumerate(versions):\n",
    "    plt.annotate(v, (flops[i], runtimes[i]), textcoords=\"offset points\", xytext=(0,10), ha='center',\n",
    "                 bbox=dict(boxstyle=\"round,pad=0.3\", edgecolor=\"black\", facecolor=\"white\"))\n",
    "plt.xlabel('FLOPs')\n",
    "plt.ylabel('Runtime [s]')\n",
    "plt.show()"
   ]
  },
  {
   "cell_type": "code",
   "execution_count": 12,
   "id": "d94bf860-9123-48f0-9b53-8ed6ad9802f3",
   "metadata": {},
   "outputs": [],
   "source": [
    "make_craypat = False # stop compiling all cells if craypat shouldn't be run\n",
    "import sys\n",
    "if not make_craypat:\n",
    "    sys.exit()"
   ]
  },
  {
   "cell_type": "code",
   "execution_count": null,
   "id": "3b277524-2cd6-4f2b-9a33-20d7ddd4b7f7",
   "metadata": {},
   "outputs": [],
   "source": [
    "%%bash\n",
    "versions=('kblocking' 'averaging-nn' 'averaging-nnn' 'averaging-nn-ij' 'averaging-nnn-ij' 'lap-nn' 'lap-nnn' 'lap-nn-ij' 'lap-nnn-ij' 'ijblocking-inline') ## THIS SHOULD BE A COPY OF VERSIONS IN CELL BELOW\n",
    "\n",
    "for version in \"${versions[@]}\"\n",
    "do \n",
    "       srun -n 1 ../Stencil_code/stencil2d-\"$version\".x --nx 128 --ny 128 --nz 64 --num_iter 128 > Flops_reports/report_\"$version\".txt\n",
    "done"
   ]
  }
 ],
 "metadata": {
  "kernelspec": {
   "display_name": "HPC4WC_kernel",
   "language": "python",
   "name": "hpc4wc_kernel"
  },
  "language_info": {
   "codemirror_mode": {
    "name": "ipython",
    "version": 3
   },
   "file_extension": ".py",
   "mimetype": "text/x-python",
   "name": "python",
   "nbconvert_exporter": "python",
   "pygments_lexer": "ipython3",
   "version": "3.9.4"
  }
 },
 "nbformat": 4,
 "nbformat_minor": 5
}
